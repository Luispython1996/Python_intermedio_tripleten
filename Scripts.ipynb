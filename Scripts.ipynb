{
 "cells": [
  {
   "cell_type": "code",
   "execution_count": null,
   "id": "064fe441-fc75-4589-a22c-888e2d3e6dac",
   "metadata": {},
   "outputs": [],
   "source": []
  },
  {
   "cell_type": "code",
   "execution_count": 16,
   "id": "d6f4a2df-e434-434c-b2c7-c880cb7e6e37",
   "metadata": {},
   "outputs": [
    {
     "name": "stdout",
     "output_type": "stream",
     "text": [
      "Requirement already satisfied: pip in c:\\users\\lloso\\anaconda3\\lib\\site-packages (25.0.1)\n",
      "Requirement already satisfied: Pillow in c:\\users\\lloso\\anaconda3\\lib\\site-packages (11.1.0)\n"
     ]
    }
   ],
   "source": [
    "!pip install --upgrade pip\n",
    "!pip install --upgrade Pillow"
   ]
  },
  {
   "cell_type": "code",
   "execution_count": null,
   "id": "0a257fde-8ac0-4bfe-a9d4-c0dd74b57f96",
   "metadata": {},
   "outputs": [],
   "source": []
  },
  {
   "cell_type": "code",
   "execution_count": 22,
   "id": "eb531f08-359d-448d-adc0-4d8fa7e0abd0",
   "metadata": {},
   "outputs": [
    {
     "name": "stdout",
     "output_type": "stream",
     "text": [
      "(1110, 694)\n"
     ]
    }
   ],
   "source": [
    "from PIL import Image\n",
    "\n",
    "# Solution 1: Use the complete file path (replace with your actual path)\n",
    "im = Image.open('C:/Users/lloso/Downloads/tripleten_logo.jpeg')\n",
    "\n",
    "# Alternative Solution 2: Move the image to the same directory as the script\n",
    "# and use just the filename\n",
    "# im = Image.open('tripleten_logo.jpeg')\n",
    "\n",
    "# get image size\n",
    "print(im.size)\n",
    "\n",
    "# rotate image 90 degrees counterclockwise\n",
    "rotated = im.rotate(90)\n",
    "\n",
    "# save rotated image\n",
    "rotated.save('rotated.png')\n",
    "\n",
    "# Note: Make sure to:\n",
    "# 1. Replace the file path with your actual image path\n",
    "# 2. Use forward slashes (/) or double backslashes (\\\\) in the path\n",
    "# 3. Verify that the image file exists at the specified location"
   ]
  },
  {
   "cell_type": "code",
   "execution_count": null,
   "id": "eb51fda9-82bf-406b-bb3b-27e430ede0b7",
   "metadata": {},
   "outputs": [],
   "source": []
  }
 ],
 "metadata": {
  "kernelspec": {
   "display_name": "Python 3 (ipykernel)",
   "language": "python",
   "name": "python3"
  },
  "language_info": {
   "codemirror_mode": {
    "name": "ipython",
    "version": 3
   },
   "file_extension": ".py",
   "mimetype": "text/x-python",
   "name": "python",
   "nbconvert_exporter": "python",
   "pygments_lexer": "ipython3",
   "version": "3.12.7"
  }
 },
 "nbformat": 4,
 "nbformat_minor": 5
}
